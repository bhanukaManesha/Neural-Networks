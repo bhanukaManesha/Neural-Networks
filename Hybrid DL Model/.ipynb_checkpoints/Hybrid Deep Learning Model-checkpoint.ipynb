{
 "cells": [
  {
   "cell_type": "markdown",
   "metadata": {},
   "source": [
    "# Identify the frauds using a Self Organizing Map"
   ]
  },
  {
   "cell_type": "code",
   "execution_count": 2,
   "metadata": {},
   "outputs": [],
   "source": [
    "import numpy as np\n",
    "import matplotlib.pyplot as plt\n",
    "import pandas as pd"
   ]
  },
  {
   "cell_type": "code",
   "execution_count": 3,
   "metadata": {},
   "outputs": [
    {
     "name": "stdout",
     "output_type": "stream",
     "text": [
      "     CustomerID  A1     A2      A3  A4  A5  A6     A7  A8  A9  A10  A11  A12  \\\n",
      "0      15776156   1  22.08  11.460   2   4   4  1.585   0   0    0    1    2   \n",
      "1      15739548   0  22.67   7.000   2   8   4  0.165   0   0    0    0    2   \n",
      "2      15662854   0  29.58   1.750   1   4   4  1.250   0   0    0    1    2   \n",
      "3      15687688   0  21.67  11.500   1   5   3  0.000   1   1   11    1    2   \n",
      "4      15715750   1  20.17   8.170   2   6   4  1.960   1   1   14    0    2   \n",
      "5      15571121   0  15.83   0.585   2   8   8  1.500   1   1    2    0    2   \n",
      "6      15726466   1  17.42   6.500   2   3   4  0.125   0   0    0    0    2   \n",
      "7      15660390   0  58.67   4.460   2  11   8  3.040   1   1    6    0    2   \n",
      "8      15663942   1  27.83   1.000   1   2   8  3.000   0   0    0    0    2   \n",
      "9      15638610   0  55.75   7.080   2   4   8  6.750   1   1    3    1    2   \n",
      "10     15644446   1  33.50   1.750   2  14   8  4.500   1   1    4    1    2   \n",
      "11     15585892   1  41.42   5.000   2  11   8  5.000   1   1    6    1    2   \n",
      "12     15609356   1  20.67   1.250   1   8   8  1.375   1   1    3    1    2   \n",
      "13     15803378   1  34.92   5.000   2  14   8  7.500   1   1    6    1    2   \n",
      "14     15599440   1  58.58   2.710   2   8   4  2.415   0   0    0    1    2   \n",
      "15     15692408   1  48.08   6.040   2   4   4  0.040   0   0    0    0    2   \n",
      "16     15683168   1  29.58   4.500   2   9   4  7.500   1   1    2    1    2   \n",
      "17     15790254   0  18.92   9.000   2   6   4  0.750   1   1    2    0    2   \n",
      "18     15767729   1  20.00   1.250   1   4   4  0.125   0   0    0    0    2   \n",
      "19     15768600   0  22.42   5.665   2  11   4  2.585   1   1    7    0    2   \n",
      "20     15699839   0  28.17   0.585   2   6   4  0.040   0   0    0    0    2   \n",
      "21     15786237   0  19.17   0.585   1   6   4  0.585   1   0    0    1    2   \n",
      "22     15694530   1  41.17   1.335   2   2   4  0.165   0   0    0    0    2   \n",
      "23     15796813   1  41.58   1.750   2   4   4  0.210   1   0    0    0    2   \n",
      "24     15605791   1  19.50   9.585   2   6   4  0.790   0   0    0    0    2   \n",
      "25     15714087   1  32.75   1.500   2  13   8  5.500   1   1    3    1    2   \n",
      "26     15711446   1  22.50   0.125   1   4   4  0.125   0   0    0    0    2   \n",
      "27     15588123   1  33.17   3.040   1   8   8  2.040   1   1    1    1    2   \n",
      "28     15748552   0  30.67  12.000   2   8   4  2.000   1   1    1    0    2   \n",
      "29     15618410   1  23.08   2.500   2   8   4  1.085   1   1   11    1    2   \n",
      "..          ...  ..    ...     ...  ..  ..  ..    ...  ..  ..  ...  ...  ...   \n",
      "660    15598586   1  26.67   2.710   1  13   4  5.250   1   1    1    0    2   \n",
      "661    15665014   0  22.50   0.415   2   3   4  0.335   0   0    0    1    1   \n",
      "662    15701738   1  39.92   0.540   1   6   4  0.500   1   1    3    0    2   \n",
      "663    15650591   0  26.08   8.665   2   6   4  1.415   1   0    0    0    2   \n",
      "664    15652667   1  20.00   0.000   2   2   4  0.500   0   0    0    0    2   \n",
      "665    15679622   1  31.57   4.000   1   3   4  0.085   0   0    0    1    2   \n",
      "666    15730150   1  26.75   4.500   1   8   5  2.500   0   0    0    0    2   \n",
      "667    15813192   0  24.92   1.250   2   1   1  0.000   1   0    0    0    2   \n",
      "668    15606554   0  32.25   1.500   2   8   4  0.250   0   0    0    1    2   \n",
      "669    15611794   1  17.67   4.460   2   8   4  0.250   0   0    0    0    1   \n",
      "670    15672357   0  37.75   5.500   2  11   4  0.125   1   0    0    1    2   \n",
      "671    15711759   1  22.67   2.540   1   8   8  2.585   1   0    0    0    2   \n",
      "672    15615296   0  17.92  10.210   2   1   1  0.000   0   0    0    0    2   \n",
      "673    15699294   1  24.42  12.335   2  11   8  1.585   1   0    0    1    2   \n",
      "674    15788634   0  25.75   0.500   2   8   8  0.875   1   0    0    1    2   \n",
      "675    15660871   1  26.17  12.500   1   4   8  1.250   0   0    0    1    2   \n",
      "676    15618258   0  22.75   6.165   2   6   4  0.165   0   0    0    0    2   \n",
      "677    15722535   1  23.00   0.750   2   7   4  0.500   1   0    0    1    1   \n",
      "678    15711977   1  25.67   0.290   1   8   4  1.500   0   0    0    1    2   \n",
      "679    15690169   1  48.58   0.205   1   4   4  0.250   1   1   11    0    2   \n",
      "680    15790689   1  21.17   0.000   2   8   4  0.500   0   0    0    1    1   \n",
      "681    15665181   1  35.25  16.500   1   8   4  4.000   1   0    0    0    2   \n",
      "682    15633608   0  22.92  11.585   2  13   4  0.040   1   0    0    0    2   \n",
      "683    15805261   0  48.17   1.335   2   3   7  0.335   0   0    0    0    2   \n",
      "684    15740356   1  43.00   0.290   1  13   8  1.750   1   1    8    0    2   \n",
      "685    15808223   1  31.57  10.500   2  14   4  6.500   1   0    0    0    2   \n",
      "686    15769980   1  20.67   0.415   2   8   4  0.125   0   0    0    0    2   \n",
      "687    15675450   0  18.83   9.540   2   6   4  0.085   1   0    0    0    2   \n",
      "688    15776494   0  27.42  14.500   2  14   8  3.085   1   1    1    0    2   \n",
      "689    15592412   1  41.00   0.040   2  10   4  0.040   0   1    1    0    1   \n",
      "\n",
      "     A13    A14  Class  \n",
      "0    100   1213      0  \n",
      "1    160      1      0  \n",
      "2    280      1      0  \n",
      "3      0      1      1  \n",
      "4     60    159      1  \n",
      "5    100      1      1  \n",
      "6     60    101      0  \n",
      "7     43    561      1  \n",
      "8    176    538      0  \n",
      "9    100     51      0  \n",
      "10   253    858      1  \n",
      "11   470      1      1  \n",
      "12   140    211      0  \n",
      "13     0   1001      1  \n",
      "14   320      1      0  \n",
      "15     0   2691      1  \n",
      "16   330      1      1  \n",
      "17    88    592      1  \n",
      "18   140      5      0  \n",
      "19   129   3258      1  \n",
      "20   260   1005      0  \n",
      "21   160      1      0  \n",
      "22   168      1      0  \n",
      "23   160      1      0  \n",
      "24    80    351      0  \n",
      "25     0      1      1  \n",
      "26   200     71      0  \n",
      "27   180  18028      1  \n",
      "28   220     20      1  \n",
      "29    60   2185      1  \n",
      "..   ...    ...    ...  \n",
      "660  211      1      1  \n",
      "661  144      1      0  \n",
      "662  200   1001      1  \n",
      "663  160    151      1  \n",
      "664  144      1      0  \n",
      "665  411      1      0  \n",
      "666  200   1211      0  \n",
      "667   80      1      0  \n",
      "668  372    123      0  \n",
      "669   80      1      0  \n",
      "670  228      1      1  \n",
      "671    0      1      1  \n",
      "672    0     51      0  \n",
      "673  120      1      1  \n",
      "674  491      1      1  \n",
      "675    0     18      0  \n",
      "676  220   1001      0  \n",
      "677  320      1      0  \n",
      "678  160      1      0  \n",
      "679  380   2733      1  \n",
      "680    0      1      0  \n",
      "681   80      1      0  \n",
      "682   80   1350      1  \n",
      "683    0    121      0  \n",
      "684  100    376      1  \n",
      "685    0      1      1  \n",
      "686    0     45      0  \n",
      "687  100      1      1  \n",
      "688  120     12      1  \n",
      "689  560      1      1  \n",
      "\n",
      "[690 rows x 16 columns]\n",
      "[[8.42681467e-01 1.00000000e+00 1.25263158e-01 ... 5.00000000e-01\n",
      "  5.00000000e-02 1.21200000e-02]\n",
      " [6.96090562e-01 0.00000000e+00 1.34135338e-01 ... 5.00000000e-01\n",
      "  8.00000000e-02 0.00000000e+00]\n",
      " [3.88981656e-01 0.00000000e+00 2.38045113e-01 ... 5.00000000e-01\n",
      "  1.40000000e-01 0.00000000e+00]\n",
      " ...\n",
      " [4.39420332e-01 0.00000000e+00 7.63909774e-02 ... 5.00000000e-01\n",
      "  5.00000000e-02 0.00000000e+00]\n",
      " [8.44034934e-01 0.00000000e+00 2.05563910e-01 ... 5.00000000e-01\n",
      "  6.00000000e-02 1.10000000e-04]\n",
      " [1.06907888e-01 1.00000000e+00 4.09774436e-01 ... 0.00000000e+00\n",
      "  2.80000000e-01 0.00000000e+00]]\n"
     ]
    }
   ],
   "source": [
    "dataset = pd.read_csv(\"Credit_Card_Applications.csv\")\n",
    "print(dataset)\n",
    "X = dataset.iloc[:,:-1].values\n",
    "y = dataset.iloc[:,-1].values\n",
    "from sklearn.preprocessing import MinMaxScaler\n",
    "sc = MinMaxScaler(feature_range=(0,1))\n",
    "X = sc.fit_transform(X)\n",
    "print(X)"
   ]
  },
  {
   "cell_type": "code",
   "execution_count": 4,
   "metadata": {},
   "outputs": [],
   "source": [
    "from minisom import MiniSom\n",
    "som = MiniSom(x=10,y=10,input_len=15,sigma=1.0,learning_rate=0.5)\n",
    "som.random_weights_init(X)\n",
    "som.train_random(data=X,num_iteration=100)"
   ]
  },
  {
   "cell_type": "code",
   "execution_count": 5,
   "metadata": {},
   "outputs": [
    {
     "data": {
      "image/png": "[encoded data removed]",
      "text/plain": [
       "<Figure size 432x288 with 2 Axes>"
      ]
     },
     "metadata": {
      "needs_background": "light"
     },
     "output_type": "display_data"
    }
   ],
   "source": [
    "from pylab import bone,pcolor,colorbar,plot,show\n",
    "bone()\n",
    "pcolor(som.distance_map().T)\n",
    "colorbar()\n",
    "markers = ['o','s']\n",
    "colors = ['r','g']\n",
    "for i,x in enumerate(X):\n",
    "    w = som.winner(x)\n",
    "    plot(w[0] + 0.5,\n",
    "         w[1] + 0.5,\n",
    "         markers[y[i]],\n",
    "         markeredgecolor = colors[y[i]],\n",
    "         markerfacecolor = 'None',\n",
    "         markersize=10,\n",
    "         markeredgewidth=2\n",
    "        )\n",
    "show()"
   ]
  },
  {
   "cell_type": "code",
   "execution_count": 8,
   "metadata": {
    "scrolled": true
   },
   "outputs": [
    {
     "name": "stdout",
     "output_type": "stream",
     "text": [
      "[[1.5662854e+07 0.0000000e+00 2.9580000e+01 1.7500000e+00 1.0000000e+00\n",
      "  4.0000000e+00 4.0000000e+00 1.2500000e+00 0.0000000e+00 0.0000000e+00\n",
      "  0.0000000e+00 1.0000000e+00 2.0000000e+00 2.8000000e+02 1.0000000e+00]\n",
      " [1.5610042e+07 0.0000000e+00 2.0420000e+01 1.0500000e+01 1.0000000e+00\n",
      "  1.4000000e+01 8.0000000e+00 0.0000000e+00 0.0000000e+00 0.0000000e+00\n",
      "  0.0000000e+00 1.0000000e+00 2.0000000e+00 1.5400000e+02 3.3000000e+01]\n",
      " [1.5568162e+07 0.0000000e+00 1.9500000e+01 1.6500000e-01 2.0000000e+00\n",
      "  1.1000000e+01 4.0000000e+00 4.0000000e-02 0.0000000e+00 0.0000000e+00\n",
      "  0.0000000e+00 1.0000000e+00 2.0000000e+00 3.8000000e+02 1.0000000e+00]\n",
      " [1.5745375e+07 0.0000000e+00 3.3080000e+01 1.6250000e+00 2.0000000e+00\n",
      "  2.0000000e+00 4.0000000e+00 5.4000000e-01 0.0000000e+00 0.0000000e+00\n",
      "  0.0000000e+00 1.0000000e+00 2.0000000e+00 0.0000000e+00 1.0000000e+00]\n",
      " [1.5638983e+07 0.0000000e+00 5.6830000e+01 4.2500000e+00 1.0000000e+00\n",
      "  1.0000000e+00 1.0000000e+00 5.0000000e+00 0.0000000e+00 0.0000000e+00\n",
      "  0.0000000e+00 1.0000000e+00 2.0000000e+00 0.0000000e+00 5.0000000e+00]\n",
      " [1.5654625e+07 0.0000000e+00 5.3330000e+01 1.6500000e-01 2.0000000e+00\n",
      "  1.0000000e+00 1.0000000e+00 0.0000000e+00 0.0000000e+00 0.0000000e+00\n",
      "  0.0000000e+00 1.0000000e+00 1.0000000e+00 6.2000000e+01 2.8000000e+01]\n",
      " [1.5662152e+07 0.0000000e+00 2.9750000e+01 6.6500000e-01 2.0000000e+00\n",
      "  9.0000000e+00 4.0000000e+00 2.5000000e-01 0.0000000e+00 0.0000000e+00\n",
      "  0.0000000e+00 1.0000000e+00 2.0000000e+00 3.0000000e+02 1.0000000e+00]\n",
      " [1.5623210e+07 0.0000000e+00 2.6580000e+01 2.5400000e+00 1.0000000e+00\n",
      "  1.0000000e+00 1.0000000e+00 0.0000000e+00 0.0000000e+00 0.0000000e+00\n",
      "  0.0000000e+00 1.0000000e+00 2.0000000e+00 1.8000000e+02 6.1000000e+01]\n",
      " [1.5651460e+07 0.0000000e+00 6.9500000e+01 6.0000000e+00 2.0000000e+00\n",
      "  1.0000000e+00 1.0000000e+00 0.0000000e+00 0.0000000e+00 0.0000000e+00\n",
      "  0.0000000e+00 0.0000000e+00 1.0000000e+00 0.0000000e+00 1.0000000e+00]\n",
      " [1.5734578e+07 0.0000000e+00 2.1750000e+01 1.1750000e+01 2.0000000e+00\n",
      "  8.0000000e+00 4.0000000e+00 2.5000000e-01 0.0000000e+00 0.0000000e+00\n",
      "  0.0000000e+00 1.0000000e+00 2.0000000e+00 1.8000000e+02 1.0000000e+00]\n",
      " [1.5570508e+07 0.0000000e+00 5.1920000e+01 6.5000000e+00 2.0000000e+00\n",
      "  3.0000000e+00 5.0000000e+00 3.0850000e+00 0.0000000e+00 0.0000000e+00\n",
      "  0.0000000e+00 1.0000000e+00 2.0000000e+00 7.3000000e+01 1.0000000e+00]\n",
      " [1.5795527e+07 0.0000000e+00 4.2250000e+01 1.7500000e+00 1.0000000e+00\n",
      "  8.0000000e+00 4.0000000e+00 0.0000000e+00 0.0000000e+00 0.0000000e+00\n",
      "  0.0000000e+00 1.0000000e+00 2.0000000e+00 1.5000000e+02 2.0000000e+00]\n",
      " [1.5641733e+07 0.0000000e+00 5.0250000e+01 8.3500000e-01 2.0000000e+00\n",
      "  6.0000000e+00 4.0000000e+00 5.0000000e-01 0.0000000e+00 0.0000000e+00\n",
      "  0.0000000e+00 1.0000000e+00 2.0000000e+00 2.4000000e+02 1.1800000e+02]\n",
      " [1.5660144e+07 0.0000000e+00 2.6170000e+01 2.0000000e+00 2.0000000e+00\n",
      "  5.0000000e+00 3.0000000e+00 0.0000000e+00 0.0000000e+00 0.0000000e+00\n",
      "  0.0000000e+00 1.0000000e+00 2.0000000e+00 2.7600000e+02 2.0000000e+00]\n",
      " [1.5603565e+07 0.0000000e+00 2.2920000e+01 1.2500000e+00 2.0000000e+00\n",
      "  1.1000000e+01 4.0000000e+00 2.5000000e-01 0.0000000e+00 0.0000000e+00\n",
      "  0.0000000e+00 1.0000000e+00 2.0000000e+00 1.2000000e+02 8.1000000e+02]\n",
      " [1.5802869e+07 0.0000000e+00 3.0250000e+01 5.5000000e+00 2.0000000e+00\n",
      "  4.0000000e+00 4.0000000e+00 5.5000000e+00 0.0000000e+00 0.0000000e+00\n",
      "  0.0000000e+00 1.0000000e+00 1.0000000e+00 1.0000000e+02 1.0000000e+00]\n",
      " [1.5664720e+07 0.0000000e+00 2.4830000e+01 4.5000000e+00 2.0000000e+00\n",
      "  9.0000000e+00 4.0000000e+00 1.0000000e+00 0.0000000e+00 0.0000000e+00\n",
      "  0.0000000e+00 1.0000000e+00 2.0000000e+00 3.6000000e+02 7.0000000e+00]\n",
      " [1.5627328e+07 0.0000000e+00 2.3580000e+01 1.1500000e+01 1.0000000e+00\n",
      "  4.0000000e+00 8.0000000e+00 3.0000000e+00 0.0000000e+00 0.0000000e+00\n",
      "  0.0000000e+00 1.0000000e+00 2.0000000e+00 2.0000000e+01 1.7000000e+01]\n",
      " [1.5645820e+07 0.0000000e+00 1.8080000e+01 3.7500000e-01 3.0000000e+00\n",
      "  1.3000000e+01 1.0000000e+00 1.0000000e+01 0.0000000e+00 0.0000000e+00\n",
      "  0.0000000e+00 1.0000000e+00 1.0000000e+00 3.0000000e+02 1.0000000e+00]\n",
      " [1.5800554e+07 0.0000000e+00 4.5330000e+01 1.0000000e+00 2.0000000e+00\n",
      "  1.1000000e+01 4.0000000e+00 1.2500000e-01 0.0000000e+00 0.0000000e+00\n",
      "  0.0000000e+00 1.0000000e+00 2.0000000e+00 2.6300000e+02 1.0000000e+00]\n",
      " [1.5617991e+07 0.0000000e+00 3.4830000e+01 1.2500000e+00 1.0000000e+00\n",
      "  3.0000000e+00 8.0000000e+00 5.0000000e-01 0.0000000e+00 0.0000000e+00\n",
      "  0.0000000e+00 1.0000000e+00 2.0000000e+00 1.6000000e+02 1.0000000e+00]\n",
      " [1.5696120e+07 0.0000000e+00 3.3250000e+01 2.5000000e+00 1.0000000e+00\n",
      "  8.0000000e+00 4.0000000e+00 2.5000000e+00 0.0000000e+00 0.0000000e+00\n",
      "  0.0000000e+00 1.0000000e+00 2.0000000e+00 0.0000000e+00 3.0000000e+00]\n",
      " [1.5750545e+07 0.0000000e+00 4.5000000e+01 4.5850000e+00 2.0000000e+00\n",
      "  4.0000000e+00 8.0000000e+00 1.0000000e+00 0.0000000e+00 0.0000000e+00\n",
      "  0.0000000e+00 1.0000000e+00 1.0000000e+00 2.4000000e+02 1.0000000e+00]\n",
      " [1.5567919e+07 0.0000000e+00 2.3500000e+01 1.5000000e+00 2.0000000e+00\n",
      "  9.0000000e+00 4.0000000e+00 8.7500000e-01 0.0000000e+00 0.0000000e+00\n",
      "  0.0000000e+00 1.0000000e+00 2.0000000e+00 1.6000000e+02 1.0000000e+00]\n",
      " [1.5687634e+07 0.0000000e+00 3.3170000e+01 2.2500000e+00 1.0000000e+00\n",
      "  1.3000000e+01 4.0000000e+00 3.5000000e+00 0.0000000e+00 0.0000000e+00\n",
      "  0.0000000e+00 1.0000000e+00 2.0000000e+00 2.0000000e+02 1.4200000e+02]\n",
      " [1.5638751e+07 0.0000000e+00 2.7670000e+01 2.0400000e+00 2.0000000e+00\n",
      "  9.0000000e+00 4.0000000e+00 2.5000000e-01 0.0000000e+00 0.0000000e+00\n",
      "  0.0000000e+00 1.0000000e+00 2.0000000e+00 1.8000000e+02 5.1000000e+01]\n",
      " [1.5641007e+07 0.0000000e+00 2.5250000e+01 1.2500000e+01 2.0000000e+00\n",
      "  2.0000000e+00 4.0000000e+00 1.0000000e+00 0.0000000e+00 0.0000000e+00\n",
      "  0.0000000e+00 1.0000000e+00 2.0000000e+00 1.8000000e+02 1.0630000e+03]\n",
      " [1.5665014e+07 0.0000000e+00 2.2500000e+01 4.1500000e-01 2.0000000e+00\n",
      "  3.0000000e+00 4.0000000e+00 3.3500000e-01 0.0000000e+00 0.0000000e+00\n",
      "  0.0000000e+00 1.0000000e+00 1.0000000e+00 1.4400000e+02 1.0000000e+00]\n",
      " [1.5606554e+07 0.0000000e+00 3.2250000e+01 1.5000000e+00 2.0000000e+00\n",
      "  8.0000000e+00 4.0000000e+00 2.5000000e-01 0.0000000e+00 0.0000000e+00\n",
      "  0.0000000e+00 1.0000000e+00 2.0000000e+00 3.7200000e+02 1.2300000e+02]\n",
      " [1.5706762e+07 0.0000000e+00 4.0830000e+01 3.5000000e+00 2.0000000e+00\n",
      "  3.0000000e+00 5.0000000e+00 5.0000000e-01 0.0000000e+00 0.0000000e+00\n",
      "  0.0000000e+00 0.0000000e+00 1.0000000e+00 1.1600000e+03 1.0000000e+00]\n",
      " [1.5694666e+07 0.0000000e+00 2.6500000e+01 2.7100000e+00 1.0000000e+00\n",
      "  8.0000000e+00 4.0000000e+00 8.5000000e-02 0.0000000e+00 0.0000000e+00\n",
      "  0.0000000e+00 0.0000000e+00 1.0000000e+00 8.0000000e+01 1.0000000e+00]\n",
      " [1.5711299e+07 0.0000000e+00 2.2670000e+01 3.3500000e-01 2.0000000e+00\n",
      "  1.1000000e+01 4.0000000e+00 7.5000000e-01 0.0000000e+00 0.0000000e+00\n",
      "  0.0000000e+00 0.0000000e+00 1.0000000e+00 1.6000000e+02 1.0000000e+00]]\n"
     ]
    }
   ],
   "source": [
    "mappings = som.win_map(X)\n",
    "frauds = np.concatenate((mappings[(5,6)], mappings[(8,4)]),axis=0)\n",
    "frauds = sc.inverse_transform(frauds)\n",
    "#frauds = pd.DataFrame(frauds)\n",
    "print(frauds)"
   ]
  },
  {
   "cell_type": "markdown",
   "metadata": {},
   "source": [
    "# Going from unsupervised learning to supervised learning"
   ]
  },
  {
   "cell_type": "markdown",
   "metadata": {},
   "source": [
    "Creating the matrix of features"
   ]
  },
  {
   "cell_type": "code",
   "execution_count": 9,
   "metadata": {},
   "outputs": [],
   "source": [
    "customers = dataset.iloc[:,1:].values"
   ]
  },
  {
   "cell_type": "markdown",
   "metadata": {},
   "source": [
    "Creating the dependent variable"
   ]
  },
  {
   "cell_type": "code",
   "execution_count": 14,
   "metadata": {},
   "outputs": [
    {
     "name": "stdout",
     "output_type": "stream",
     "text": [
      "[0. 0. 1. 0. 0. 0. 0. 0. 0. 0. 0. 0. 0. 0. 0. 0. 0. 0. 0. 0. 0. 0. 0. 0.\n",
      " 0. 0. 0. 0. 0. 0. 0. 1. 0. 0. 0. 0. 0. 0. 0. 0. 0. 0. 0. 0. 0. 0. 0. 0.\n",
      " 0. 0. 0. 0. 0. 0. 0. 0. 0. 0. 0. 0. 0. 0. 0. 1. 0. 0. 1. 0. 0. 0. 0. 0.\n",
      " 0. 0. 0. 0. 0. 0. 0. 0. 0. 0. 0. 0. 0. 0. 0. 0. 0. 0. 0. 0. 0. 0. 0. 0.\n",
      " 0. 0. 0. 0. 0. 0. 0. 0. 0. 0. 0. 0. 0. 0. 0. 0. 0. 0. 0. 0. 0. 0. 0. 0.\n",
      " 0. 0. 0. 0. 0. 0. 0. 0. 0. 0. 0. 0. 0. 1. 0. 0. 0. 0. 0. 0. 0. 0. 0. 0.\n",
      " 0. 0. 0. 0. 0. 0. 0. 0. 0. 0. 0. 0. 0. 0. 0. 0. 0. 1. 0. 0. 0. 0. 0. 0.\n",
      " 0. 0. 0. 0. 0. 0. 0. 0. 1. 1. 0. 0. 0. 0. 0. 0. 0. 0. 0. 0. 1. 0. 0. 0.\n",
      " 0. 0. 0. 0. 0. 0. 0. 0. 0. 0. 0. 0. 0. 0. 0. 0. 0. 0. 0. 0. 0. 0. 1. 0.\n",
      " 0. 0. 0. 0. 0. 0. 0. 0. 0. 0. 0. 0. 0. 0. 0. 0. 0. 0. 0. 0. 0. 1. 0. 0.\n",
      " 0. 0. 0. 0. 0. 0. 0. 0. 0. 0. 0. 0. 0. 0. 0. 0. 0. 0. 0. 0. 0. 0. 1. 0.\n",
      " 0. 0. 0. 0. 0. 0. 0. 0. 0. 0. 0. 0. 0. 0. 0. 0. 0. 0. 0. 0. 0. 0. 0. 0.\n",
      " 0. 0. 0. 0. 0. 0. 0. 0. 0. 0. 0. 0. 0. 0. 0. 0. 0. 0. 0. 0. 0. 0. 0. 0.\n",
      " 0. 0. 0. 0. 0. 0. 0. 0. 0. 0. 0. 0. 0. 0. 0. 1. 0. 0. 0. 0. 0. 0. 1. 0.\n",
      " 0. 0. 0. 0. 0. 0. 0. 0. 0. 0. 0. 0. 0. 0. 0. 0. 0. 0. 0. 0. 0. 0. 0. 0.\n",
      " 0. 0. 0. 0. 0. 1. 0. 0. 0. 0. 0. 0. 0. 0. 0. 0. 0. 0. 0. 0. 0. 0. 0. 0.\n",
      " 0. 0. 1. 0. 0. 0. 0. 0. 0. 0. 0. 0. 0. 1. 0. 0. 0. 0. 0. 0. 0. 0. 0. 0.\n",
      " 0. 0. 0. 0. 0. 0. 0. 1. 0. 0. 0. 0. 0. 0. 0. 0. 0. 0. 0. 0. 1. 0. 0. 0.\n",
      " 0. 0. 0. 0. 0. 0. 0. 0. 0. 0. 0. 0. 0. 0. 0. 0. 0. 0. 0. 0. 0. 0. 0. 0.\n",
      " 0. 0. 0. 0. 0. 0. 0. 0. 0. 0. 0. 0. 0. 1. 0. 0. 0. 0. 0. 0. 0. 0. 0. 0.\n",
      " 0. 0. 0. 0. 0. 0. 0. 0. 0. 0. 0. 0. 0. 0. 0. 0. 0. 0. 1. 0. 0. 0. 0. 0.\n",
      " 0. 0. 0. 0. 0. 0. 0. 0. 0. 0. 0. 0. 0. 0. 0. 0. 0. 0. 0. 0. 0. 0. 0. 1.\n",
      " 0. 0. 0. 1. 0. 0. 0. 0. 0. 0. 0. 0. 0. 0. 0. 0. 0. 0. 0. 0. 1. 0. 0. 0.\n",
      " 0. 0. 0. 0. 0. 0. 0. 0. 1. 0. 0. 0. 0. 0. 0. 0. 1. 0. 0. 0. 0. 1. 0. 0.\n",
      " 1. 0. 0. 0. 0. 0. 0. 0. 0. 0. 0. 0. 0. 0. 0. 0. 0. 0. 0. 0. 0. 0. 0. 0.\n",
      " 0. 0. 0. 0. 0. 0. 0. 0. 1. 0. 0. 0. 0. 0. 0. 0. 0. 0. 0. 0. 0. 0. 0. 0.\n",
      " 0. 0. 0. 0. 0. 0. 0. 0. 0. 0. 0. 0. 0. 0. 0. 0. 0. 0. 0. 0. 0. 0. 0. 0.\n",
      " 0. 0. 0. 0. 0. 0. 0. 1. 0. 0. 0. 0. 0. 1. 0. 0. 0. 0. 0. 0. 1. 0. 0. 0.\n",
      " 0. 0. 0. 0. 0. 0. 0. 0. 0. 0. 0. 0. 0. 0. 0. 0. 0. 0.]\n"
     ]
    }
   ],
   "source": [
    "is_fraud = np.zeros(len(dataset))\n",
    "for i in range(len(dataset)):\n",
    "    if dataset.iloc[i,0] in frauds:\n",
    "        is_fraud[i] = 1\n",
    "print(is_fraud)"
   ]
  },
  {
   "cell_type": "markdown",
   "metadata": {},
   "source": [
    "## Training the ANN"
   ]
  },
  {
   "cell_type": "code",
   "execution_count": 15,
   "metadata": {},
   "outputs": [],
   "source": [
    "from sklearn.preprocessing import StandardScaler\n",
    "sc = StandardScaler()\n",
    "customers = sc.fit_transform(customers)"
   ]
  },
  {
   "cell_type": "code",
   "execution_count": 16,
   "metadata": {},
   "outputs": [],
   "source": [
    "import keras\n",
    "from keras.models import Sequential\n",
    "from keras.layers import Dense"
   ]
  },
  {
   "cell_type": "code",
   "execution_count": 17,
   "metadata": {},
   "outputs": [],
   "source": [
    "classifier = Sequential()\n",
    "classifier.add(Dense(units = 2, kernel_initializer = 'uniform', activation = 'relu', input_dim = 15))\n",
    "classifier.add(Dense(units = 6, kernel_initializer = 'uniform', activation = 'relu'))\n",
    "classifier.add(Dense(units = 1, kernel_initializer = 'uniform', activation = 'sigmoid'))\n",
    "classifier.compile(optimizer = 'adam', loss = 'binary_crossentropy', metrics = ['accuracy'])"
   ]
  },
  {
   "cell_type": "code",
   "execution_count": 18,
   "metadata": {},
   "outputs": [
    {
     "name": "stdout",
     "output_type": "stream",
     "text": [
      "Epoch 1/2\n",
      "690/690 [==============================] - 1s 2ms/step - loss: 0.3768 - acc: 0.9536\n",
      "Epoch 2/2\n",
      "690/690 [==============================] - 1s 1ms/step - loss: 0.1377 - acc: 0.9536\n"
     ]
    },
    {
     "data": {
      "text/plain": [
       "<keras.callbacks.History at 0x1a36131470>"
      ]
     },
     "execution_count": 18,
     "metadata": {},
     "output_type": "execute_result"
    }
   ],
   "source": [
    "classifier.fit(customers, is_fraud, verbose=1, batch_size = 1, epochs = 2)"
   ]
  },
  {
   "cell_type": "markdown",
   "metadata": {},
   "source": [
    "## Predicting the probabilities of fraud"
   ]
  },
  {
   "cell_type": "code",
   "execution_count": 30,
   "metadata": {},
   "outputs": [],
   "source": [
    "y_pred = classifier.predict(customers)"
   ]
  },
  {
   "cell_type": "code",
   "execution_count": 31,
   "metadata": {
    "scrolled": true
   },
   "outputs": [
    {
     "name": "stdout",
     "output_type": "stream",
     "text": [
      "              0         1\n",
      "0    15699340.0  0.000225\n",
      "1    15571415.0  0.000250\n",
      "2    15621423.0  0.000329\n",
      "3    15778589.0  0.000365\n",
      "4    15585855.0  0.000374\n",
      "5    15684440.0  0.000403\n",
      "6    15644400.0  0.000406\n",
      "7    15570947.0  0.000426\n",
      "8    15602456.0  0.000464\n",
      "9    15697310.0  0.000482\n",
      "10   15675176.0  0.000495\n",
      "11   15665374.0  0.000496\n",
      "12   15589881.0  0.000515\n",
      "13   15777994.0  0.000522\n",
      "14   15661412.0  0.000531\n",
      "15   15728082.0  0.000549\n",
      "16   15641715.0  0.000558\n",
      "17   15571284.0  0.000559\n",
      "18   15790113.0  0.000591\n",
      "19   15622507.0  0.000614\n",
      "20   15592326.0  0.000635\n",
      "21   15671293.0  0.000636\n",
      "22   15597536.0  0.000636\n",
      "23   15768449.0  0.000652\n",
      "24   15796787.0  0.000654\n",
      "25   15642098.0  0.000669\n",
      "26   15706602.0  0.000680\n",
      "27   15778290.0  0.000690\n",
      "28   15697844.0  0.000756\n",
      "29   15664083.0  0.000761\n",
      "..          ...       ...\n",
      "660  15664720.0  0.170253\n",
      "661  15800554.0  0.172395\n",
      "662  15734578.0  0.174020\n",
      "663  15567919.0  0.174550\n",
      "664  15606554.0  0.175180\n",
      "665  15643056.0  0.176397\n",
      "666  15662152.0  0.176799\n",
      "667  15641733.0  0.177251\n",
      "668  15802869.0  0.177251\n",
      "669  15623210.0  0.177251\n",
      "670  15750104.0  0.177251\n",
      "671  15662854.0  0.177251\n",
      "672  15636454.0  0.177251\n",
      "673  15710138.0  0.177251\n",
      "674  15638983.0  0.177251\n",
      "675  15638751.0  0.177251\n",
      "676  15654625.0  0.177251\n",
      "677  15659100.0  0.177251\n",
      "678  15665014.0  0.177251\n",
      "679  15608916.0  0.177251\n",
      "680  15716082.0  0.177251\n",
      "681  15809909.0  0.177251\n",
      "682  15696120.0  0.177251\n",
      "683  15750545.0  0.177251\n",
      "684  15694666.0  0.177251\n",
      "685  15603683.0  0.177251\n",
      "686  15611409.0  0.177251\n",
      "687  15752344.0  0.177251\n",
      "688  15570508.0  0.177251\n",
      "689  15795527.0  0.177251\n",
      "\n",
      "[690 rows x 2 columns]\n"
     ]
    }
   ],
   "source": [
    "y_pred = np.concatenate((dataset.iloc[:,0:1].values,y_pred),axis=1)\n",
    "y_pred = y_pred[y_pred[:,1].argsort()]\n",
    "print(pd.DataFrame(y_pred))"
   ]
  }
 ],
 "metadata": {
  "kernelspec": {
   "display_name": "Python 3",
   "language": "python",
   "name": "python3"
  },
  "language_info": {
   "codemirror_mode": {
    "name": "ipython",
    "version": 3
   },
   "file_extension": ".py",
   "mimetype": "text/x-python",
   "name": "python",
   "nbconvert_exporter": "python",
   "pygments_lexer": "ipython3",
   "version": "3.6.6"
  },
  "varInspector": {
   "cols": {
    "lenName": 16,
    "lenType": 16,
    "lenVar": 40
   },
   "kernels_config": {
    "python": {
     "delete_cmd_postfix": "",
     "delete_cmd_prefix": "del ",
     "library": "var_list.py",
     "varRefreshCmd": "print(var_dic_list())"
    },
    "r": {
     "delete_cmd_postfix": ") ",
     "delete_cmd_prefix": "rm(",
     "library": "var_list.r",
     "varRefreshCmd": "cat(var_dic_list()) "
    }
   },
   "position": {
    "height": "559.85px",
    "left": "1310px",
    "right": "20px",
    "top": "120px",
    "width": "350px"
   },
   "types_to_exclude": [
    "module",
    "function",
    "builtin_function_or_method",
    "instance",
    "_Feature"
   ],
   "window_display": true
  }
 },
 "nbformat": 4,
 "nbformat_minor": 2
}
