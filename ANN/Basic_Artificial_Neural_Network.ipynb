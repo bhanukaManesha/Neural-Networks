{
 "cells": [
  {
   "cell_type": "markdown",
   "metadata": {},
   "source": [
    "# Building a Basic Artificial Neural Network"
   ]
  },
  {
   "cell_type": "markdown",
   "metadata": {},
   "source": [
    "## Pre-requisite\n",
    "Install Tenserflow, Keras and Tensorboard\n"
   ]
  },
  {
   "cell_type": "markdown",
   "metadata": {},
   "source": [
    "## Part 1 - Data Pre-Processing"
   ]
  },
  {
   "cell_type": "markdown",
   "metadata": {},
   "source": [
    "Import the libraries"
   ]
  },
  {
   "cell_type": "code",
   "execution_count": 8,
   "metadata": {},
   "outputs": [],
   "source": [
    "import numpy as np\n",
    "import matplotlib.pyplot as plt\n",
    "import pandas as pd"
   ]
  },
  {
   "cell_type": "markdown",
   "metadata": {},
   "source": [
    "Importing the dataset"
   ]
  },
  {
   "cell_type": "code",
   "execution_count": 10,
   "metadata": {},
   "outputs": [],
   "source": [
    "dataset = pd.read_csv('dataset.csv')"
   ]
  },
  {
   "cell_type": "markdown",
   "metadata": {},
   "source": [
    "Seperating the features and outputs"
   ]
  },
  {
   "cell_type": "code",
   "execution_count": 11,
   "metadata": {},
   "outputs": [],
   "source": [
    "X = dataset.iloc[:, 3:13].values\n",
    "y = dataset.iloc[:, 13].values"
   ]
  },
  {
   "cell_type": "markdown",
   "metadata": {},
   "source": [
    "Encoding catergorial data"
   ]
  },
  {
   "cell_type": "code",
   "execution_count": 15,
   "metadata": {},
   "outputs": [
    {
     "name": "stderr",
     "output_type": "stream",
     "text": [
      "/anaconda3/lib/python3.6/site-packages/sklearn/preprocessing/_encoders.py:368: FutureWarning: The handling of integer data will change in version 0.22. Currently, the categories are determined based on the range [0, max(values)], while in the future they will be determined based on the unique values.\n",
      "If you want the future behaviour and silence this warning, you can specify \"categories='auto'\".\n",
      "In case you used a LabelEncoder before this OneHotEncoder to convert the categories to integers, then you can now use the OneHotEncoder directly.\n",
      "  warnings.warn(msg, FutureWarning)\n",
      "/anaconda3/lib/python3.6/site-packages/sklearn/preprocessing/_encoders.py:390: DeprecationWarning: The 'categorical_features' keyword is deprecated in version 0.20 and will be removed in 0.22. You can use the ColumnTransformer instead.\n",
      "  \"use the ColumnTransformer instead.\", DeprecationWarning)\n"
     ]
    }
   ],
   "source": [
    "from sklearn.preprocessing import LabelEncoder, OneHotEncoder\n",
    "labelencoder_X_1 = LabelEncoder()\n",
    "X[:, 1] = labelencoder_X_1.fit_transform(X[:, 1])\n",
    "labelencoder_X_2 = LabelEncoder()\n",
    "X[:, 2] = labelencoder_X_2.fit_transform(X[:, 2])\n",
    "onehotencoder = OneHotEncoder(categorical_features = [1])\n",
    "X = onehotencoder.fit_transform(X).toarray()\n",
    "X = X[:, 1:]"
   ]
  },
  {
   "cell_type": "markdown",
   "metadata": {},
   "source": [
    "Splitting the dataset into the Training set and Test set"
   ]
  },
  {
   "cell_type": "code",
   "execution_count": 16,
   "metadata": {},
   "outputs": [],
   "source": [
    "from sklearn.model_selection import train_test_split\n",
    "X_train, X_test, y_train, y_test = train_test_split(X, y, test_size = 0.2, random_state = 0)"
   ]
  },
  {
   "cell_type": "markdown",
   "metadata": {},
   "source": [
    "Feature Scaling"
   ]
  },
  {
   "cell_type": "code",
   "execution_count": 17,
   "metadata": {},
   "outputs": [],
   "source": [
    "from sklearn.preprocessing import StandardScaler\n",
    "sc = StandardScaler()\n",
    "X_train = sc.fit_transform(X_train)\n",
    "X_test = sc.transform(X_test)"
   ]
  },
  {
   "cell_type": "markdown",
   "metadata": {},
   "source": [
    "## Part 2 - Building the graph"
   ]
  },
  {
   "cell_type": "markdown",
   "metadata": {},
   "source": [
    "Importing the Keras libraries and packages"
   ]
  },
  {
   "cell_type": "code",
   "execution_count": 18,
   "metadata": {},
   "outputs": [
    {
     "name": "stderr",
     "output_type": "stream",
     "text": [
      "Using TensorFlow backend.\n"
     ]
    }
   ],
   "source": [
    "import keras\n",
    "from keras.models import Sequential\n",
    "from keras.layers import Dense"
   ]
  },
  {
   "cell_type": "markdown",
   "metadata": {},
   "source": [
    "Initialising the ANN"
   ]
  },
  {
   "cell_type": "code",
   "execution_count": 20,
   "metadata": {},
   "outputs": [],
   "source": [
    "classifier = Sequential()"
   ]
  },
  {
   "cell_type": "markdown",
   "metadata": {},
   "source": [
    "Adding the input layer and the first hidden layer"
   ]
  },
  {
   "cell_type": "code",
   "execution_count": 21,
   "metadata": {},
   "outputs": [],
   "source": [
    "classifier.add(Dense(units = 6, kernel_initializer = 'uniform', activation = 'relu', input_dim = 11))"
   ]
  },
  {
   "cell_type": "markdown",
   "metadata": {},
   "source": [
    "Adding the second hidden layer"
   ]
  },
  {
   "cell_type": "code",
   "execution_count": 22,
   "metadata": {},
   "outputs": [],
   "source": [
    "classifier.add(Dense(units = 6, kernel_initializer = 'uniform', activation = 'relu'))"
   ]
  },
  {
   "cell_type": "markdown",
   "metadata": {},
   "source": [
    "Adding the output layer"
   ]
  },
  {
   "cell_type": "code",
   "execution_count": 23,
   "metadata": {},
   "outputs": [],
   "source": [
    "classifier.add(Dense(units = 1, kernel_initializer = 'uniform', activation = 'sigmoid'))"
   ]
  },
  {
   "cell_type": "markdown",
   "metadata": {},
   "source": [
    "Compiling the ANN"
   ]
  },
  {
   "cell_type": "code",
   "execution_count": 24,
   "metadata": {},
   "outputs": [],
   "source": [
    "classifier.compile(optimizer = 'adam', loss = 'binary_crossentropy', metrics = ['accuracy'])"
   ]
  },
  {
   "cell_type": "markdown",
   "metadata": {},
   "source": [
    "Initializng the tenserboard and outputting the logs"
   ]
  },
  {
   "cell_type": "code",
   "execution_count": 30,
   "metadata": {},
   "outputs": [],
   "source": [
    "from keras.callbacks import TensorBoard\n",
    "from time import time\n",
    "tensorboard = TensorBoard(log_dir=\"logs/{}\".format(time()))"
   ]
  },
  {
   "cell_type": "markdown",
   "metadata": {},
   "source": [
    "Fitting the ANN to the Training set"
   ]
  },
  {
   "cell_type": "code",
   "execution_count": 35,
   "metadata": {},
   "outputs": [
    {
     "name": "stdout",
     "output_type": "stream",
     "text": [
      "Epoch 1/100\n",
      "8000/8000 [==============================] - 1s 99us/step - loss: 0.3851 - acc: 0.8410\n",
      "Epoch 2/100\n",
      "8000/8000 [==============================] - 1s 109us/step - loss: 0.3822 - acc: 0.8421\n",
      "Epoch 3/100\n",
      "8000/8000 [==============================] - 1s 139us/step - loss: 0.3775 - acc: 0.8437\n",
      "Epoch 4/100\n",
      "8000/8000 [==============================] - 1s 109us/step - loss: 0.3734 - acc: 0.8449\n",
      "Epoch 5/100\n",
      "8000/8000 [==============================] - 1s 98us/step - loss: 0.3706 - acc: 0.8479\n",
      "Epoch 6/100\n",
      "8000/8000 [==============================] - 1s 101us/step - loss: 0.3674 - acc: 0.8494\n",
      "Epoch 7/100\n",
      "8000/8000 [==============================] - 1s 93us/step - loss: 0.3640 - acc: 0.8499\n",
      "Epoch 8/100\n",
      "8000/8000 [==============================] - 1s 97us/step - loss: 0.3629 - acc: 0.8522\n",
      "Epoch 9/100\n",
      "8000/8000 [==============================] - 1s 106us/step - loss: 0.3605 - acc: 0.8527\n",
      "Epoch 10/100\n",
      "8000/8000 [==============================] - 1s 99us/step - loss: 0.3601 - acc: 0.8555\n",
      "Epoch 11/100\n",
      "8000/8000 [==============================] - 1s 94us/step - loss: 0.3585 - acc: 0.8562\n",
      "Epoch 12/100\n",
      "8000/8000 [==============================] - 1s 95us/step - loss: 0.3583 - acc: 0.8567\n",
      "Epoch 13/100\n",
      "8000/8000 [==============================] - 1s 96us/step - loss: 0.3565 - acc: 0.8581\n",
      "Epoch 14/100\n",
      "8000/8000 [==============================] - 1s 105us/step - loss: 0.3554 - acc: 0.8577\n",
      "Epoch 15/100\n",
      "8000/8000 [==============================] - 1s 102us/step - loss: 0.3543 - acc: 0.8606\n",
      "Epoch 16/100\n",
      "8000/8000 [==============================] - 1s 108us/step - loss: 0.3538 - acc: 0.8607\n",
      "Epoch 17/100\n",
      "8000/8000 [==============================] - 1s 101us/step - loss: 0.3538 - acc: 0.8557\n",
      "Epoch 18/100\n",
      "8000/8000 [==============================] - 1s 102us/step - loss: 0.3537 - acc: 0.8575\n",
      "Epoch 19/100\n",
      "8000/8000 [==============================] - 1s 98us/step - loss: 0.3531 - acc: 0.8570\n",
      "Epoch 20/100\n",
      "8000/8000 [==============================] - 1s 100us/step - loss: 0.3525 - acc: 0.8577\n",
      "Epoch 21/100\n",
      "8000/8000 [==============================] - 1s 108us/step - loss: 0.3509 - acc: 0.8601\n",
      "Epoch 22/100\n",
      "8000/8000 [==============================] - 1s 135us/step - loss: 0.3523 - acc: 0.8600\n",
      "Epoch 23/100\n",
      "8000/8000 [==============================] - 1s 103us/step - loss: 0.3516 - acc: 0.8591\n",
      "Epoch 24/100\n",
      "8000/8000 [==============================] - 1s 94us/step - loss: 0.3513 - acc: 0.8575\n",
      "Epoch 25/100\n",
      "8000/8000 [==============================] - 1s 93us/step - loss: 0.3508 - acc: 0.8589\n",
      "Epoch 26/100\n",
      "8000/8000 [==============================] - 1s 93us/step - loss: 0.3513 - acc: 0.8602\n",
      "Epoch 27/100\n",
      "8000/8000 [==============================] - 1s 97us/step - loss: 0.3501 - acc: 0.8591\n",
      "Epoch 28/100\n",
      "8000/8000 [==============================] - 1s 92us/step - loss: 0.3506 - acc: 0.8604\n",
      "Epoch 29/100\n",
      "8000/8000 [==============================] - 1s 99us/step - loss: 0.3497 - acc: 0.8590\n",
      "Epoch 30/100\n",
      "8000/8000 [==============================] - 1s 99us/step - loss: 0.3491 - acc: 0.8577\n",
      "Epoch 31/100\n",
      "8000/8000 [==============================] - 1s 101us/step - loss: 0.3493 - acc: 0.8592\n",
      "Epoch 32/100\n",
      "8000/8000 [==============================] - 1s 97us/step - loss: 0.3490 - acc: 0.8582\n",
      "Epoch 33/100\n",
      "8000/8000 [==============================] - 1s 93us/step - loss: 0.3485 - acc: 0.8589\n",
      "Epoch 34/100\n",
      "8000/8000 [==============================] - 1s 93us/step - loss: 0.3487 - acc: 0.8609\n",
      "Epoch 35/100\n",
      "8000/8000 [==============================] - 1s 92us/step - loss: 0.3477 - acc: 0.8621\n",
      "Epoch 36/100\n",
      "8000/8000 [==============================] - 1s 92us/step - loss: 0.3473 - acc: 0.8600\n",
      "Epoch 37/100\n",
      "8000/8000 [==============================] - 1s 93us/step - loss: 0.3474 - acc: 0.8572\n",
      "Epoch 38/100\n",
      "8000/8000 [==============================] - 1s 92us/step - loss: 0.3478 - acc: 0.8610\n",
      "Epoch 39/100\n",
      "8000/8000 [==============================] - 1s 98us/step - loss: 0.3472 - acc: 0.8612\n",
      "Epoch 40/100\n",
      "8000/8000 [==============================] - 1s 96us/step - loss: 0.3473 - acc: 0.8582\n",
      "Epoch 41/100\n",
      "8000/8000 [==============================] - 1s 124us/step - loss: 0.3466 - acc: 0.8596\n",
      "Epoch 42/100\n",
      "8000/8000 [==============================] - 1s 105us/step - loss: 0.3464 - acc: 0.8601\n",
      "Epoch 43/100\n",
      "8000/8000 [==============================] - 1s 114us/step - loss: 0.3468 - acc: 0.8610\n",
      "Epoch 44/100\n",
      "8000/8000 [==============================] - 1s 101us/step - loss: 0.3464 - acc: 0.8597\n",
      "Epoch 45/100\n",
      "8000/8000 [==============================] - 1s 101us/step - loss: 0.3459 - acc: 0.8610\n",
      "Epoch 46/100\n",
      "8000/8000 [==============================] - 1s 99us/step - loss: 0.3465 - acc: 0.8582\n",
      "Epoch 47/100\n",
      "8000/8000 [==============================] - 1s 99us/step - loss: 0.3463 - acc: 0.8599\n",
      "Epoch 48/100\n",
      "8000/8000 [==============================] - 1s 99us/step - loss: 0.3451 - acc: 0.8597\n",
      "Epoch 49/100\n",
      "8000/8000 [==============================] - 1s 98us/step - loss: 0.3464 - acc: 0.8595\n",
      "Epoch 50/100\n",
      "8000/8000 [==============================] - 1s 99us/step - loss: 0.3454 - acc: 0.8611\n",
      "Epoch 51/100\n",
      "8000/8000 [==============================] - 1s 98us/step - loss: 0.3454 - acc: 0.8595\n",
      "Epoch 52/100\n",
      "8000/8000 [==============================] - 1s 99us/step - loss: 0.3459 - acc: 0.8599\n",
      "Epoch 53/100\n",
      "8000/8000 [==============================] - 1s 101us/step - loss: 0.3459 - acc: 0.8596\n",
      "Epoch 54/100\n",
      "8000/8000 [==============================] - 1s 102us/step - loss: 0.3454 - acc: 0.8614\n",
      "Epoch 55/100\n",
      "8000/8000 [==============================] - 1s 103us/step - loss: 0.3454 - acc: 0.8589\n",
      "Epoch 56/100\n",
      "8000/8000 [==============================] - 1s 100us/step - loss: 0.3445 - acc: 0.8595\n",
      "Epoch 57/100\n",
      "8000/8000 [==============================] - 1s 102us/step - loss: 0.3451 - acc: 0.8587\n",
      "Epoch 58/100\n",
      "8000/8000 [==============================] - 1s 98us/step - loss: 0.3450 - acc: 0.8605\n",
      "Epoch 59/100\n",
      "8000/8000 [==============================] - 1s 99us/step - loss: 0.3442 - acc: 0.8617\n",
      "Epoch 60/100\n",
      "8000/8000 [==============================] - 1s 98us/step - loss: 0.3444 - acc: 0.8587\n",
      "Epoch 61/100\n",
      "8000/8000 [==============================] - 1s 98us/step - loss: 0.3448 - acc: 0.8607\n",
      "Epoch 62/100\n",
      "8000/8000 [==============================] - 1s 98us/step - loss: 0.3444 - acc: 0.8610\n",
      "Epoch 63/100\n",
      "8000/8000 [==============================] - 1s 98us/step - loss: 0.3450 - acc: 0.8604\n",
      "Epoch 64/100\n",
      "8000/8000 [==============================] - 1s 100us/step - loss: 0.3439 - acc: 0.8599\n",
      "Epoch 65/100\n",
      "8000/8000 [==============================] - 1s 110us/step - loss: 0.3436 - acc: 0.8609\n",
      "Epoch 66/100\n",
      "8000/8000 [==============================] - 1s 108us/step - loss: 0.3444 - acc: 0.8616\n",
      "Epoch 67/100\n",
      "8000/8000 [==============================] - 1s 105us/step - loss: 0.3443 - acc: 0.8622\n",
      "Epoch 68/100\n",
      "8000/8000 [==============================] - 1s 111us/step - loss: 0.3438 - acc: 0.8609\n",
      "Epoch 69/100\n",
      "8000/8000 [==============================] - 1s 103us/step - loss: 0.3436 - acc: 0.8594\n",
      "Epoch 70/100\n",
      "8000/8000 [==============================] - 1s 100us/step - loss: 0.3442 - acc: 0.8614\n",
      "Epoch 71/100\n",
      "8000/8000 [==============================] - 1s 104us/step - loss: 0.3434 - acc: 0.8606\n",
      "Epoch 72/100\n",
      "8000/8000 [==============================] - 1s 103us/step - loss: 0.3429 - acc: 0.8587\n",
      "Epoch 73/100\n",
      "8000/8000 [==============================] - 1s 106us/step - loss: 0.3437 - acc: 0.8611\n",
      "Epoch 74/100\n",
      "8000/8000 [==============================] - 1s 107us/step - loss: 0.3433 - acc: 0.8579\n",
      "Epoch 75/100\n",
      "8000/8000 [==============================] - 1s 108us/step - loss: 0.3438 - acc: 0.8597\n",
      "Epoch 76/100\n",
      "8000/8000 [==============================] - 1s 103us/step - loss: 0.3433 - acc: 0.8581\n",
      "Epoch 77/100\n",
      "8000/8000 [==============================] - 1s 107us/step - loss: 0.3435 - acc: 0.8601\n",
      "Epoch 78/100\n",
      "8000/8000 [==============================] - 1s 106us/step - loss: 0.3432 - acc: 0.8595\n",
      "Epoch 79/100\n",
      "8000/8000 [==============================] - 1s 102us/step - loss: 0.3429 - acc: 0.8614\n",
      "Epoch 80/100\n",
      "8000/8000 [==============================] - 1s 101us/step - loss: 0.3435 - acc: 0.8599\n",
      "Epoch 81/100\n",
      "8000/8000 [==============================] - 1s 105us/step - loss: 0.3428 - acc: 0.8605\n",
      "Epoch 82/100\n"
     ]
    },
    {
     "name": "stdout",
     "output_type": "stream",
     "text": [
      "8000/8000 [==============================] - 1s 107us/step - loss: 0.3431 - acc: 0.8624\n",
      "Epoch 83/100\n",
      "8000/8000 [==============================] - 1s 96us/step - loss: 0.3422 - acc: 0.8592\n",
      "Epoch 84/100\n",
      "8000/8000 [==============================] - 1s 95us/step - loss: 0.3434 - acc: 0.8579\n",
      "Epoch 85/100\n",
      "8000/8000 [==============================] - 1s 94us/step - loss: 0.3425 - acc: 0.8602\n",
      "Epoch 86/100\n",
      "8000/8000 [==============================] - 1s 96us/step - loss: 0.3422 - acc: 0.8602\n",
      "Epoch 87/100\n",
      "8000/8000 [==============================] - 1s 96us/step - loss: 0.3430 - acc: 0.8621\n",
      "Epoch 88/100\n",
      "8000/8000 [==============================] - 1s 96us/step - loss: 0.3429 - acc: 0.8604\n",
      "Epoch 89/100\n",
      "8000/8000 [==============================] - 1s 96us/step - loss: 0.3428 - acc: 0.8600\n",
      "Epoch 90/100\n",
      "8000/8000 [==============================] - 1s 96us/step - loss: 0.3424 - acc: 0.8596\n",
      "Epoch 91/100\n",
      "8000/8000 [==============================] - 1s 95us/step - loss: 0.3432 - acc: 0.8594\n",
      "Epoch 92/100\n",
      "8000/8000 [==============================] - 1s 97us/step - loss: 0.3426 - acc: 0.8607\n",
      "Epoch 93/100\n",
      "8000/8000 [==============================] - 1s 96us/step - loss: 0.3434 - acc: 0.8614\n",
      "Epoch 94/100\n",
      "8000/8000 [==============================] - 1s 99us/step - loss: 0.3424 - acc: 0.8601\n",
      "Epoch 95/100\n",
      "8000/8000 [==============================] - 1s 94us/step - loss: 0.3425 - acc: 0.8589\n",
      "Epoch 96/100\n",
      "8000/8000 [==============================] - 1s 96us/step - loss: 0.3429 - acc: 0.8607\n",
      "Epoch 97/100\n",
      "8000/8000 [==============================] - 1s 97us/step - loss: 0.3426 - acc: 0.8606\n",
      "Epoch 98/100\n",
      "8000/8000 [==============================] - 1s 97us/step - loss: 0.3431 - acc: 0.8607\n",
      "Epoch 99/100\n",
      "8000/8000 [==============================] - 1s 95us/step - loss: 0.3432 - acc: 0.8607\n",
      "Epoch 100/100\n",
      "8000/8000 [==============================] - 1s 97us/step - loss: 0.3420 - acc: 0.8604\n"
     ]
    },
    {
     "data": {
      "text/plain": [
       "<keras.callbacks.History at 0x1c3073a748>"
      ]
     },
     "execution_count": 35,
     "metadata": {},
     "output_type": "execute_result"
    }
   ],
   "source": [
    "classifier.fit(X_train, y_train, verbose=1, callbacks=[tensorboard], batch_size = 10, epochs = 100)"
   ]
  },
  {
   "cell_type": "markdown",
   "metadata": {},
   "source": [
    "## Part 3 - Making Predictions and Evaluating the model"
   ]
  },
  {
   "cell_type": "markdown",
   "metadata": {},
   "source": [
    "Predicting the Test set results"
   ]
  },
  {
   "cell_type": "code",
   "execution_count": 37,
   "metadata": {},
   "outputs": [],
   "source": [
    "y_pred = classifier.predict(X_test)\n",
    "y_pred = (y_pred > 0.5)"
   ]
  },
  {
   "cell_type": "markdown",
   "metadata": {},
   "source": [
    "Making the Confusion Matrix"
   ]
  },
  {
   "cell_type": "code",
   "execution_count": 39,
   "metadata": {},
   "outputs": [
    {
     "name": "stdout",
     "output_type": "stream",
     "text": [
      "[[1457  138]\n",
      " [ 164  241]]\n"
     ]
    }
   ],
   "source": [
    "from sklearn.metrics import confusion_matrix\n",
    "cm = confusion_matrix(y_test, y_pred)\n",
    "print(cm)"
   ]
  },
  {
   "cell_type": "code",
   "execution_count": null,
   "metadata": {},
   "outputs": [],
   "source": []
  }
 ],
 "metadata": {
  "kernelspec": {
   "display_name": "Python 3",
   "language": "python",
   "name": "python3"
  },
  "language_info": {
   "codemirror_mode": {
    "name": "ipython",
    "version": 3
   },
   "file_extension": ".py",
   "mimetype": "text/x-python",
   "name": "python",
   "nbconvert_exporter": "python",
   "pygments_lexer": "ipython3",
   "version": "3.6.6"
  }
 },
 "nbformat": 4,
 "nbformat_minor": 2
}
